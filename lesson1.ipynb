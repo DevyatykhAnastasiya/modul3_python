{
 "cells": [
  {
   "cell_type": "code",
   "execution_count": 3,
   "id": "01be68f9-9be5-4efd-a45b-aeed7f0e8fff",
   "metadata": {},
   "outputs": [],
   "source": [
    "# Машинное обучение"
   ]
  },
  {
   "cell_type": "code",
   "execution_count": 5,
   "id": "1eda4130-61aa-4b75-bb35-921be3e5db41",
   "metadata": {},
   "outputs": [],
   "source": [
    "# ML - решает следующую задачу\n",
    "# Требуется подогнать заданный набор точек данными под соответствующую функцию\n",
    "# (отображение входа на выход), которая улавливаеь важные сигналы и игнорирует помехи, а затем убедиться, что на новых данных функция работает хорошо"
   ]
  },
  {
   "cell_type": "code",
   "execution_count": 7,
   "id": "067030bb-2117-42aa-b6ca-c8cf9fae8383",
   "metadata": {},
   "outputs": [],
   "source": [
    "import seaborn as sns"
   ]
  },
  {
   "cell_type": "code",
   "execution_count": 9,
   "id": "7c381303-16ce-4c15-bd48-e838f29c6e7f",
   "metadata": {},
   "outputs": [],
   "source": [
    "iris = sns.load_dataset(\"iris\")"
   ]
  },
  {
   "cell_type": "code",
   "execution_count": 11,
   "id": "5a982a4b-6c1e-4ac8-9621-72a1f2eb7b1c",
   "metadata": {},
   "outputs": [
    {
     "name": "stdout",
     "output_type": "stream",
     "text": [
      "   sepal_length  sepal_width  petal_length  petal_width species\n",
      "0           5.1          3.5           1.4          0.2  setosa\n",
      "1           4.9          3.0           1.4          0.2  setosa\n",
      "2           4.7          3.2           1.3          0.2  setosa\n",
      "3           4.6          3.1           1.5          0.2  setosa\n",
      "4           5.0          3.6           1.4          0.2  setosa\n"
     ]
    }
   ],
   "source": [
    "print(iris.head())"
   ]
  },
  {
   "cell_type": "code",
   "execution_count": 13,
   "id": "a77e08e3-7a56-462c-95d3-bd4539297f11",
   "metadata": {},
   "outputs": [
    {
     "name": "stdout",
     "output_type": "stream",
     "text": [
      "<class 'pandas.core.frame.DataFrame'>\n"
     ]
    }
   ],
   "source": [
    "print(type(iris))"
   ]
  },
  {
   "cell_type": "code",
   "execution_count": 15,
   "id": "c183db94-af51-4314-9155-bce6286539c3",
   "metadata": {},
   "outputs": [
    {
     "name": "stdout",
     "output_type": "stream",
     "text": [
      "(150, 5)\n"
     ]
    }
   ],
   "source": [
    "print(iris.values.shape)"
   ]
  },
  {
   "cell_type": "code",
   "execution_count": 17,
   "id": "057e6547-165a-409d-8a6c-ba9479b95404",
   "metadata": {},
   "outputs": [
    {
     "name": "stdout",
     "output_type": "stream",
     "text": [
      "Index(['sepal_length', 'sepal_width', 'petal_length', 'petal_width',\n",
      "       'species'],\n",
      "      dtype='object')\n"
     ]
    }
   ],
   "source": [
    "print(iris.columns)"
   ]
  },
  {
   "cell_type": "code",
   "execution_count": 35,
   "id": "bb289c2f-494d-4d51-8792-073cec0a8eca",
   "metadata": {
    "scrolled": true
   },
   "outputs": [
    {
     "name": "stdout",
     "output_type": "stream",
     "text": [
      "RangeIndex(start=0, stop=150, step=1)\n"
     ]
    }
   ],
   "source": [
    "print(iris.index)"
   ]
  },
  {
   "cell_type": "code",
   "execution_count": 21,
   "id": "b8d39521-ac0c-4d4b-b675-be44c8a78b45",
   "metadata": {},
   "outputs": [],
   "source": [
    "# Строки - отдельные объекты - образцы (sample)"
   ]
  },
  {
   "cell_type": "code",
   "execution_count": 23,
   "id": "40366aaa-9c6b-4c82-8115-1c1834a48388",
   "metadata": {},
   "outputs": [],
   "source": [
    "# Столбцы - признаки (features)- соотвт конкретным наблюдениям "
   ]
  },
  {
   "cell_type": "code",
   "execution_count": 25,
   "id": "8043fb30-f76d-4ec2-9cfa-0abddeeafd0e",
   "metadata": {},
   "outputs": [],
   "source": [
    "# матрица признаков (features matrix) размер [число образцов * число признаков]"
   ]
  },
  {
   "cell_type": "code",
   "execution_count": 27,
   "id": "60611ec4-aead-4ba7-841a-39bbbc6cb1ee",
   "metadata": {},
   "outputs": [],
   "source": [
    "# Целевой массив, массив меток (targets) - одномерный массив [1 * число обазцов] - данные которые хотим предсказать на основе имеющихся данных"
   ]
  },
  {
   "cell_type": "code",
   "execution_count": 29,
   "id": "9c6a8eb0-fc02-4173-8bca-1014bf0c1335",
   "metadata": {},
   "outputs": [],
   "source": [
    "# Зависимые (метка) и независимые переменные (признаки) "
   ]
  },
  {
   "cell_type": "raw",
   "id": "f016931a-54b1-4dd8-a311-80973779a78d",
   "metadata": {},
   "source": [
    "# Процесс построения системы машинного обучения: \n",
    "# 1. Предварительная обработка \n",
    "#   - на вход поступают необработанные данные и метки\n",
    "#   - происходит выбор признаков, масштабирование признаков\n",
    "#   - понижение размерности \n",
    "#   - выборка образцов \n",
    "#   - на выход поступает набор данных: обучающий и тестовый\n",
    "\n",
    "#  2. Обучение\n",
    "#   - Выбор модели\n",
    "#   - перекрестная проверка\n",
    "#   - метрики эффективности\n",
    "#  - оптимизация гиперпараметров, т.е. параметры, которые получаются не из данных, а являются характеристиками модели\n",
    "\n",
    "# 3. Оценка и формирование финальной модели\n",
    "\n",
    "# 4. Прогнозирование (использование модели)"
   ]
  },
  {
   "cell_type": "code",
   "execution_count": null,
   "id": "b55b7bc1-35f7-4690-9050-ca50d747e871",
   "metadata": {},
   "outputs": [],
   "source": [
    "# SciKit - learn"
   ]
  },
  {
   "cell_type": "code",
   "execution_count": 37,
   "id": "598c8463-32d2-470b-8b4b-ce26e72c5fee",
   "metadata": {},
   "outputs": [],
   "source": [
    "# 1/ Выбираем класс модели\n",
    "# 2. Устанавливаем гиперпараметры модели\n",
    "# 3. Создаем матрицу признаков и целевой массив\n",
    "#  4. Обучение модели fit()\n",
    "#  5. Применять модель к новым данным\n",
    "#  - predict() -  с учителем\n",
    "#  - predict() или transform() -  без учителя"
   ]
  },
  {
   "cell_type": "code",
   "execution_count": 39,
   "id": "ff2cfbfa-a821-4438-a064-dfbba55fa13f",
   "metadata": {},
   "outputs": [],
   "source": [
    "# Обучение с учителем : Линейная регрессия \n",
    "##Простой линейной регрессии"
   ]
  },
  {
   "cell_type": "code",
   "execution_count": 41,
   "id": "e69e4e9f-b92e-49b8-9787-2879d0fe3ed2",
   "metadata": {},
   "outputs": [],
   "source": [
    "# y = ax + b \n",
    "\n",
    "import matplotlib.pyplot as plt\n",
    "import numpy as np"
   ]
  },
  {
   "cell_type": "code",
   "execution_count": 61,
   "id": "447e03b7-81ad-421d-b106-d0177bc7da3b",
   "metadata": {},
   "outputs": [
    {
     "name": "stdout",
     "output_type": "stream",
     "text": [
      "2.027208810360695\n",
      "0.0014229144467972077\n"
     ]
    },
    {
     "data": {
      "image/png": "[encoded data removed]",
      "text/plain": [
       "<Figure size 640x480 with 1 Axes>"
      ]
     },
     "metadata": {},
     "output_type": "display_data"
    }
   ],
   "source": [
    "## 1\n",
    "np.random.seed(1)\n",
    "x = 10 * np.random.rand(50)\n",
    "\n",
    "y = 2 * x + np.random.randn(50)\n",
    "\n",
    "plt.scatter(x,y)\n",
    "from sklearn.linear_model import LinearRegression\n",
    "## 2\n",
    "model = LinearRegression()\n",
    "\n",
    "## 3\n",
    "x = x[:, np.newaxis]\n",
    "## 4\n",
    "\n",
    "model.fit(x,y)\n",
    "\n",
    "print(model.coef_[0])\n",
    "print(model.intercept_)\n",
    "\n",
    "x_ = np.linspace(0,10,30)\n",
    "y_ = model.coef_[0] * x_ + model.intercept_\n",
    "\n",
    "plt.plot(x_,y_)\n",
    "## 5\n",
    "xfit = np.linspace(0,10,5)\n",
    "yfit = model.predict(xfit[:, np.newaxis])\n",
    "\n",
    "plt.scatter(xfit, yfit)\n",
    "\n",
    "\n",
    "plt.show()"
   ]
  },
  {
   "cell_type": "code",
   "execution_count": null,
   "id": "bd3f5336-825e-48c8-b38a-fffff1491b34",
   "metadata": {},
   "outputs": [],
   "source": []
  }
 ],
 "metadata": {
  "kernelspec": {
   "display_name": "Python 3 (ipykernel)",
   "language": "python",
   "name": "python3"
  },
  "language_info": {
   "codemirror_mode": {
    "name": "ipython",
    "version": 3
   },
   "file_extension": ".py",
   "mimetype": "text/x-python",
   "name": "python",
   "nbconvert_exporter": "python",
   "pygments_lexer": "ipython3",
   "version": "3.12.7"
  }
 },
 "nbformat": 4,
 "nbformat_minor": 5
}
